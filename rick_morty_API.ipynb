{
 "cells": [
  {
   "cell_type": "code",
   "execution_count": 2,
   "metadata": {},
   "outputs": [],
   "source": [
    "import requests \n",
    "import os\n",
    "import pandas as pd\n",
    "import numpy as np \n",
    "import plotly.express as px\n",
    "import matplotlib.pyplot as plt "
   ]
  },
  {
   "cell_type": "code",
   "execution_count": 3,
   "metadata": {},
   "outputs": [],
   "source": [
    "url = \"https://rickandmortyapi.com/api/character\""
   ]
  },
  {
   "cell_type": "code",
   "execution_count": 4,
   "metadata": {},
   "outputs": [
    {
     "name": "stdout",
     "output_type": "stream",
     "text": [
      "Request 200 : 'OK'\n"
     ]
    }
   ],
   "source": [
    "#CREAR LA FUNCIÓN DE OBTENCIÓN DE PERSONAJES MEDIANTE EL USO DE API \n",
    "\n",
    "# Realización de la petición GET\n",
    "respuesta = requests.get(url)  \n",
    "\n",
    "# Imprimimos el código de estado en la respuesta (response)\n",
    "print(f\"Request {respuesta.status_code} : '{respuesta.reason}'\")\n",
    "\n",
    "#Otra forma fácil de saber si la conexión con la API es correcta es simplemente con el siguiente código: Tenemos que saber que 200 es el valor que nos interesa\n",
    "#print(respuesta)"
   ]
  },
  {
   "cell_type": "code",
   "execution_count": 5,
   "metadata": {},
   "outputs": [
    {
     "name": "stdout",
     "output_type": "stream",
     "text": [
      "{'info': {'count': 826,\n",
      "          'next': 'https://rickandmortyapi.com/api/character?page=2',\n",
      "          'pages': 42,\n",
      "          'prev': None},\n",
      " 'results': [{'created': '2017-11-04T18:48:46.250Z',\n",
      "              'episode': ['https://rickandmortyapi.com/api/episode/1',\n",
      "                          'https://rickandmortyapi.com/api/episode/2',\n",
      "                          'https://rickandmortyapi.com/api/episode/3',\n",
      "                          'https://rickandmortyapi.com/api/episode/4',\n",
      "                          'https://rickandmortyapi.com/api/episode/5',\n",
      "                          'https://rickandmortyapi.com/api/episode/6',\n",
      "                          'https://rickandmortyapi.com/api/episode/7',\n",
      "                          'https://rickandmortyapi.com/api/episode/8',\n",
      "                          'https://rickandmortyapi.com/api/episode/9',\n",
      "                          'https://rickandmortyapi.com/api/episode/10',\n",
      "                          'https://rickandmortyapi.com/api/episode/11',\n",
      "                          'https://rickandmortyapi.com/api/episode/12',\n",
      "                          'https://rickandmortyapi.com/api/episode/13',\n",
      "                          'https://rickandmortyapi.com/api/episode/14',\n",
      "                          'https://rickandmortyapi.com/api/episode/15',\n",
      "                          'https://rickandmortyapi.com/api/episode/16',\n",
      "                          'https://rickandmortyapi.com/api/episode/17',\n",
      "                          'https://rickandmortyapi.com/api/episode/18',\n",
      "                          'https://rickandmortyapi.com/api/episode/19',\n",
      "                          'https://rickandmortyapi.com/api/episode/20',\n",
      "                          'https://rickandmortyapi.com/api/episode/21',\n",
      "                          'https://rickandmortyapi.com/api/episode/22',\n",
      "                          'https://rickandmortyapi.com/api/episode/23',\n",
      "                          'https://rickandmortyapi.com/api/episode/24',\n",
      "                          'https://rickandmortyapi.com/api/episode/25',\n",
      "                          'https://rickandmortyapi.com/api/episode/26',\n",
      "                          'https://rickandmortyapi.com/api/episode/27',\n",
      "                          'https://rickandmortyapi.com/api/episode/28',\n",
      "                          'https://rickandmortyapi.com/api/episode/29',\n",
      "                          'https://rickandmortyapi.com/api/episode/30',\n",
      "                          'https://rickandmortyapi.com/api/episode/31',\n",
      "                          'https://rickandmortyapi.com/api/episode/32',\n",
      "                          'https://rickandmortyapi.com/api/episode/33',\n",
      "                          'https://rickandmortyapi.com/api/episode/34',\n",
      "                          'https://rickandmortyapi.com/api/episode/35',\n",
      "                          'https://rickandmortyapi.com/api/episode/36',\n",
      "                          'https://rickandmortyapi.com/api/episode/37',\n",
      "                          'https://rickandmortyapi.com/api/episode/38',\n",
      "                          'https://rickandmortyapi.com/api/episode/39',\n",
      "                          'https://rickandmortyapi.com/api/episode/40',\n",
      "                          'https://rickandmortyapi.com/api/episode/41',\n",
      "                          'https://rickandmortyapi.com/api/episode/42',\n",
      "                          'https://rickandmortyapi.com/api/episode/43',\n",
      "                          'https://rickandmortyapi.com/api/episode/44',\n",
      "                          'https://rickandmortyapi.com/api/episode/45',\n",
      "                          'https://rickandmortyapi.com/api/episode/46',\n",
      "                          'https://rickandmortyapi.com/api/episode/47',\n",
      "                          'https://rickandmortyapi.com/api/episode/48',\n",
      "                          'https://rickandmortyapi.com/api/episode/49',\n",
      "                          'https://rickandmortyapi.com/api/episode/50',\n",
      "                          'https://rickandmortyapi.com/api/episode/51'],\n",
      "              'gender': 'Male',\n",
      "              'id': 1,\n",
      "              'image': 'https://rickandmortyapi.com/api/character/avatar/1.jpeg',\n",
      "              'location': {'name': 'Citadel of Ricks',\n",
      "                           'url': 'https://rickandmortyapi.com/api/location/3'},\n",
      "              'name': 'Rick Sanchez',\n",
      "              'origin': {'name': 'Earth (C-137)',\n",
      "                         'url': 'https://rickandmortyapi.com/api/location/1'},\n",
      "              'species': 'Human',\n",
      "              'status': 'Alive',\n",
      "              'type': '',\n",
      "              'url': 'https://rickandmortyapi.com/api/character/1'},\n",
      "             {'created': '2017-11-04T18:50:21.651Z',\n",
      "              'episode': ['https://rickandmortyapi.com/api/episode/1',\n",
      "                          'https://rickandmortyapi.com/api/episode/2',\n",
      "                          'https://rickandmortyapi.com/api/episode/3',\n",
      "                          'https://rickandmortyapi.com/api/episode/4',\n",
      "                          'https://rickandmortyapi.com/api/episode/5',\n",
      "                          'https://rickandmortyapi.com/api/episode/6',\n",
      "                          'https://rickandmortyapi.com/api/episode/7',\n",
      "                          'https://rickandmortyapi.com/api/episode/8',\n",
      "                          'https://rickandmortyapi.com/api/episode/9',\n",
      "                          'https://rickandmortyapi.com/api/episode/10',\n",
      "                          'https://rickandmortyapi.com/api/episode/11',\n",
      "                          'https://rickandmortyapi.com/api/episode/12',\n",
      "                          'https://rickandmortyapi.com/api/episode/13',\n",
      "                          'https://rickandmortyapi.com/api/episode/14',\n",
      "                          'https://rickandmortyapi.com/api/episode/15',\n",
      "                          'https://rickandmortyapi.com/api/episode/16',\n",
      "                          'https://rickandmortyapi.com/api/episode/17',\n",
      "                          'https://rickandmortyapi.com/api/episode/18',\n",
      "                          'https://rickandmortyapi.com/api/episode/19',\n",
      "                          'https://rickandmortyapi.com/api/episode/20',\n",
      "                          'https://rickandmortyapi.com/api/episode/21',\n",
      "                          'https://rickandmortyapi.com/api/episode/22',\n",
      "                          'https://rickandmortyapi.com/api/episode/23',\n",
      "                          'https://rickandmortyapi.com/api/episode/24',\n",
      "                          'https://rickandmortyapi.com/api/episode/25',\n",
      "                          'https://rickandmortyapi.com/api/episode/26',\n",
      "                          'https://rickandmortyapi.com/api/episode/27',\n",
      "                          'https://rickandmortyapi.com/api/episode/28',\n",
      "                          'https://rickandmortyapi.com/api/episode/29',\n",
      "                          'https://rickandmortyapi.com/api/episode/30',\n",
      "                          'https://rickandmortyapi.com/api/episode/31',\n",
      "                          'https://rickandmortyapi.com/api/episode/32',\n",
      "                          'https://rickandmortyapi.com/api/episode/33',\n",
      "                          'https://rickandmortyapi.com/api/episode/34',\n",
      "                          'https://rickandmortyapi.com/api/episode/35',\n",
      "                          'https://rickandmortyapi.com/api/episode/36',\n",
      "                          'https://rickandmortyapi.com/api/episode/37',\n",
      "                          'https://rickandmortyapi.com/api/episode/38',\n",
      "                          'https://rickandmortyapi.com/api/episode/39',\n",
      "                          'https://rickandmortyapi.com/api/episode/40',\n",
      "                          'https://rickandmortyapi.com/api/episode/41',\n",
      "                          'https://rickandmortyapi.com/api/episode/42',\n",
      "                          'https://rickandmortyapi.com/api/episode/43',\n",
      "                          'https://rickandmortyapi.com/api/episode/44',\n",
      "                          'https://rickandmortyapi.com/api/episode/45',\n",
      "                          'https://rickandmortyapi.com/api/episode/46',\n",
      "                          'https://rickandmortyapi.com/api/episode/47',\n",
      "                          'https://rickandmortyapi.com/api/episode/48',\n",
      "                          'https://rickandmortyapi.com/api/episode/49',\n",
      "                          'https://rickandmortyapi.com/api/episode/50',\n",
      "                          'https://rickandmortyapi.com/api/episode/51'],\n",
      "              'gender': 'Male',\n",
      "              'id': 2,\n",
      "              'image': 'https://rickandmortyapi.com/api/character/avatar/2.jpeg',\n",
      "              'location': {'name': 'Citadel of Ricks',\n",
      "                           'url': 'https://rickandmortyapi.com/api/location/3'},\n",
      "              'name': 'Morty Smith',\n",
      "              'origin': {'name': 'unknown', 'url': ''},\n",
      "              'species': 'Human',\n",
      "              'status': 'Alive',\n",
      "              'type': '',\n",
      "              'url': 'https://rickandmortyapi.com/api/character/2'},\n",
      "             {'created': '2017-11-04T19:09:56.428Z',\n",
      "              'episode': ['https://rickandmortyapi.com/api/episode/6',\n",
      "                          'https://rickandmortyapi.com/api/episode/7',\n",
      "                          'https://rickandmortyapi.com/api/episode/8',\n",
      "                          'https://rickandmortyapi.com/api/episode/9',\n",
      "                          'https://rickandmortyapi.com/api/episode/10',\n",
      "                          'https://rickandmortyapi.com/api/episode/11',\n",
      "                          'https://rickandmortyapi.com/api/episode/12',\n",
      "                          'https://rickandmortyapi.com/api/episode/14',\n",
      "                          'https://rickandmortyapi.com/api/episode/15',\n",
      "                          'https://rickandmortyapi.com/api/episode/16',\n",
      "                          'https://rickandmortyapi.com/api/episode/17',\n",
      "                          'https://rickandmortyapi.com/api/episode/18',\n",
      "                          'https://rickandmortyapi.com/api/episode/19',\n",
      "                          'https://rickandmortyapi.com/api/episode/20',\n",
      "                          'https://rickandmortyapi.com/api/episode/21',\n",
      "                          'https://rickandmortyapi.com/api/episode/22',\n",
      "                          'https://rickandmortyapi.com/api/episode/23',\n",
      "                          'https://rickandmortyapi.com/api/episode/24',\n",
      "                          'https://rickandmortyapi.com/api/episode/25',\n",
      "                          'https://rickandmortyapi.com/api/episode/26',\n",
      "                          'https://rickandmortyapi.com/api/episode/27',\n",
      "                          'https://rickandmortyapi.com/api/episode/29',\n",
      "                          'https://rickandmortyapi.com/api/episode/30',\n",
      "                          'https://rickandmortyapi.com/api/episode/31',\n",
      "                          'https://rickandmortyapi.com/api/episode/32',\n",
      "                          'https://rickandmortyapi.com/api/episode/33',\n",
      "                          'https://rickandmortyapi.com/api/episode/34',\n",
      "                          'https://rickandmortyapi.com/api/episode/35',\n",
      "                          'https://rickandmortyapi.com/api/episode/36',\n",
      "                          'https://rickandmortyapi.com/api/episode/38',\n",
      "                          'https://rickandmortyapi.com/api/episode/39',\n",
      "                          'https://rickandmortyapi.com/api/episode/40',\n",
      "                          'https://rickandmortyapi.com/api/episode/41',\n",
      "                          'https://rickandmortyapi.com/api/episode/42',\n",
      "                          'https://rickandmortyapi.com/api/episode/43',\n",
      "                          'https://rickandmortyapi.com/api/episode/44',\n",
      "                          'https://rickandmortyapi.com/api/episode/45',\n",
      "                          'https://rickandmortyapi.com/api/episode/46',\n",
      "                          'https://rickandmortyapi.com/api/episode/47',\n",
      "                          'https://rickandmortyapi.com/api/episode/48',\n",
      "                          'https://rickandmortyapi.com/api/episode/49',\n",
      "                          'https://rickandmortyapi.com/api/episode/51'],\n",
      "              'gender': 'Female',\n",
      "              'id': 3,\n",
      "              'image': 'https://rickandmortyapi.com/api/character/avatar/3.jpeg',\n",
      "              'location': {'name': 'Earth (Replacement Dimension)',\n",
      "                           'url': 'https://rickandmortyapi.com/api/location/20'},\n",
      "              'name': 'Summer Smith',\n",
      "              'origin': {'name': 'Earth (Replacement Dimension)',\n",
      "                         'url': 'https://rickandmortyapi.com/api/location/20'},\n",
      "              'species': 'Human',\n",
      "              'status': 'Alive',\n",
      "              'type': '',\n",
      "              'url': 'https://rickandmortyapi.com/api/character/3'},\n",
      "             {'created': '2017-11-04T19:22:43.665Z',\n",
      "              'episode': ['https://rickandmortyapi.com/api/episode/6',\n",
      "                          'https://rickandmortyapi.com/api/episode/7',\n",
      "                          'https://rickandmortyapi.com/api/episode/8',\n",
      "                          'https://rickandmortyapi.com/api/episode/9',\n",
      "                          'https://rickandmortyapi.com/api/episode/10',\n",
      "                          'https://rickandmortyapi.com/api/episode/11',\n",
      "                          'https://rickandmortyapi.com/api/episode/12',\n",
      "                          'https://rickandmortyapi.com/api/episode/14',\n",
      "                          'https://rickandmortyapi.com/api/episode/15',\n",
      "                          'https://rickandmortyapi.com/api/episode/16',\n",
      "                          'https://rickandmortyapi.com/api/episode/18',\n",
      "                          'https://rickandmortyapi.com/api/episode/19',\n",
      "                          'https://rickandmortyapi.com/api/episode/20',\n",
      "                          'https://rickandmortyapi.com/api/episode/21',\n",
      "                          'https://rickandmortyapi.com/api/episode/22',\n",
      "                          'https://rickandmortyapi.com/api/episode/23',\n",
      "                          'https://rickandmortyapi.com/api/episode/24',\n",
      "                          'https://rickandmortyapi.com/api/episode/25',\n",
      "                          'https://rickandmortyapi.com/api/episode/26',\n",
      "                          'https://rickandmortyapi.com/api/episode/27',\n",
      "                          'https://rickandmortyapi.com/api/episode/28',\n",
      "                          'https://rickandmortyapi.com/api/episode/29',\n",
      "                          'https://rickandmortyapi.com/api/episode/30',\n",
      "                          'https://rickandmortyapi.com/api/episode/31',\n",
      "                          'https://rickandmortyapi.com/api/episode/32',\n",
      "                          'https://rickandmortyapi.com/api/episode/33',\n",
      "                          'https://rickandmortyapi.com/api/episode/34',\n",
      "                          'https://rickandmortyapi.com/api/episode/35',\n",
      "                          'https://rickandmortyapi.com/api/episode/36',\n",
      "                          'https://rickandmortyapi.com/api/episode/38',\n",
      "                          'https://rickandmortyapi.com/api/episode/39',\n",
      "                          'https://rickandmortyapi.com/api/episode/40',\n",
      "                          'https://rickandmortyapi.com/api/episode/41',\n",
      "                          'https://rickandmortyapi.com/api/episode/42',\n",
      "                          'https://rickandmortyapi.com/api/episode/43',\n",
      "                          'https://rickandmortyapi.com/api/episode/44',\n",
      "                          'https://rickandmortyapi.com/api/episode/45',\n",
      "                          'https://rickandmortyapi.com/api/episode/46',\n",
      "                          'https://rickandmortyapi.com/api/episode/47',\n",
      "                          'https://rickandmortyapi.com/api/episode/48',\n",
      "                          'https://rickandmortyapi.com/api/episode/49',\n",
      "                          'https://rickandmortyapi.com/api/episode/51'],\n",
      "              'gender': 'Female',\n",
      "              'id': 4,\n",
      "              'image': 'https://rickandmortyapi.com/api/character/avatar/4.jpeg',\n",
      "              'location': {'name': 'Earth (Replacement Dimension)',\n",
      "                           'url': 'https://rickandmortyapi.com/api/location/20'},\n",
      "              'name': 'Beth Smith',\n",
      "              'origin': {'name': 'Earth (Replacement Dimension)',\n",
      "                         'url': 'https://rickandmortyapi.com/api/location/20'},\n",
      "              'species': 'Human',\n",
      "              'status': 'Alive',\n",
      "              'type': '',\n",
      "              'url': 'https://rickandmortyapi.com/api/character/4'},\n",
      "             {'created': '2017-11-04T19:26:56.301Z',\n",
      "              'episode': ['https://rickandmortyapi.com/api/episode/6',\n",
      "                          'https://rickandmortyapi.com/api/episode/7',\n",
      "                          'https://rickandmortyapi.com/api/episode/8',\n",
      "                          'https://rickandmortyapi.com/api/episode/9',\n",
      "                          'https://rickandmortyapi.com/api/episode/10',\n",
      "                          'https://rickandmortyapi.com/api/episode/11',\n",
      "                          'https://rickandmortyapi.com/api/episode/12',\n",
      "                          'https://rickandmortyapi.com/api/episode/13',\n",
      "                          'https://rickandmortyapi.com/api/episode/14',\n",
      "                          'https://rickandmortyapi.com/api/episode/15',\n",
      "                          'https://rickandmortyapi.com/api/episode/16',\n",
      "                          'https://rickandmortyapi.com/api/episode/18',\n",
      "                          'https://rickandmortyapi.com/api/episode/19',\n",
      "                          'https://rickandmortyapi.com/api/episode/20',\n",
      "                          'https://rickandmortyapi.com/api/episode/21',\n",
      "                          'https://rickandmortyapi.com/api/episode/22',\n",
      "                          'https://rickandmortyapi.com/api/episode/23',\n",
      "                          'https://rickandmortyapi.com/api/episode/26',\n",
      "                          'https://rickandmortyapi.com/api/episode/29',\n",
      "                          'https://rickandmortyapi.com/api/episode/30',\n",
      "                          'https://rickandmortyapi.com/api/episode/31',\n",
      "                          'https://rickandmortyapi.com/api/episode/32',\n",
      "                          'https://rickandmortyapi.com/api/episode/33',\n",
      "                          'https://rickandmortyapi.com/api/episode/35',\n",
      "                          'https://rickandmortyapi.com/api/episode/36',\n",
      "                          'https://rickandmortyapi.com/api/episode/38',\n",
      "                          'https://rickandmortyapi.com/api/episode/39',\n",
      "                          'https://rickandmortyapi.com/api/episode/40',\n",
      "                          'https://rickandmortyapi.com/api/episode/41',\n",
      "                          'https://rickandmortyapi.com/api/episode/42',\n",
      "                          'https://rickandmortyapi.com/api/episode/43',\n",
      "                          'https://rickandmortyapi.com/api/episode/44',\n",
      "                          'https://rickandmortyapi.com/api/episode/45',\n",
      "                          'https://rickandmortyapi.com/api/episode/46',\n",
      "                          'https://rickandmortyapi.com/api/episode/47',\n",
      "                          'https://rickandmortyapi.com/api/episode/48',\n",
      "                          'https://rickandmortyapi.com/api/episode/49',\n",
      "                          'https://rickandmortyapi.com/api/episode/50',\n",
      "                          'https://rickandmortyapi.com/api/episode/51'],\n",
      "              'gender': 'Male',\n",
      "              'id': 5,\n",
      "              'image': 'https://rickandmortyapi.com/api/character/avatar/5.jpeg',\n",
      "              'location': {'name': 'Earth (Replacement Dimension)',\n",
      "                           'url': 'https://rickandmortyapi.com/api/location/20'},\n",
      "              'name': 'Jerry Smith',\n",
      "              'origin': {'name': 'Earth (Replacement Dimension)',\n",
      "                         'url': 'https://rickandmortyapi.com/api/location/20'},\n",
      "              'species': 'Human',\n",
      "              'status': 'Alive',\n",
      "              'type': '',\n",
      "              'url': 'https://rickandmortyapi.com/api/character/5'},\n",
      "             {'created': '2017-11-04T19:50:28.250Z',\n",
      "              'episode': ['https://rickandmortyapi.com/api/episode/27'],\n",
      "              'gender': 'Female',\n",
      "              'id': 6,\n",
      "              'image': 'https://rickandmortyapi.com/api/character/avatar/6.jpeg',\n",
      "              'location': {'name': 'Abadango',\n",
      "                           'url': 'https://rickandmortyapi.com/api/location/2'},\n",
      "              'name': 'Abadango Cluster Princess',\n",
      "              'origin': {'name': 'Abadango',\n",
      "                         'url': 'https://rickandmortyapi.com/api/location/2'},\n",
      "              'species': 'Alien',\n",
      "              'status': 'Alive',\n",
      "              'type': '',\n",
      "              'url': 'https://rickandmortyapi.com/api/character/6'},\n",
      "             {'created': '2017-11-04T19:59:20.523Z',\n",
      "              'episode': ['https://rickandmortyapi.com/api/episode/10',\n",
      "                          'https://rickandmortyapi.com/api/episode/11'],\n",
      "              'gender': 'Male',\n",
      "              'id': 7,\n",
      "              'image': 'https://rickandmortyapi.com/api/character/avatar/7.jpeg',\n",
      "              'location': {'name': 'Testicle Monster Dimension',\n",
      "                           'url': 'https://rickandmortyapi.com/api/location/21'},\n",
      "              'name': 'Abradolf Lincler',\n",
      "              'origin': {'name': 'Earth (Replacement Dimension)',\n",
      "                         'url': 'https://rickandmortyapi.com/api/location/20'},\n",
      "              'species': 'Human',\n",
      "              'status': 'unknown',\n",
      "              'type': 'Genetic experiment',\n",
      "              'url': 'https://rickandmortyapi.com/api/character/7'},\n",
      "             {'created': '2017-11-04T20:03:34.737Z',\n",
      "              'episode': ['https://rickandmortyapi.com/api/episode/28'],\n",
      "              'gender': 'Male',\n",
      "              'id': 8,\n",
      "              'image': 'https://rickandmortyapi.com/api/character/avatar/8.jpeg',\n",
      "              'location': {'name': 'Citadel of Ricks',\n",
      "                           'url': 'https://rickandmortyapi.com/api/location/3'},\n",
      "              'name': 'Adjudicator Rick',\n",
      "              'origin': {'name': 'unknown', 'url': ''},\n",
      "              'species': 'Human',\n",
      "              'status': 'Dead',\n",
      "              'type': '',\n",
      "              'url': 'https://rickandmortyapi.com/api/character/8'},\n",
      "             {'created': '2017-11-04T20:06:54.976Z',\n",
      "              'episode': ['https://rickandmortyapi.com/api/episode/24'],\n",
      "              'gender': 'Male',\n",
      "              'id': 9,\n",
      "              'image': 'https://rickandmortyapi.com/api/character/avatar/9.jpeg',\n",
      "              'location': {'name': 'Earth (Replacement Dimension)',\n",
      "                           'url': 'https://rickandmortyapi.com/api/location/20'},\n",
      "              'name': 'Agency Director',\n",
      "              'origin': {'name': 'Earth (Replacement Dimension)',\n",
      "                         'url': 'https://rickandmortyapi.com/api/location/20'},\n",
      "              'species': 'Human',\n",
      "              'status': 'Dead',\n",
      "              'type': '',\n",
      "              'url': 'https://rickandmortyapi.com/api/character/9'},\n",
      "             {'created': '2017-11-04T20:19:09.017Z',\n",
      "              'episode': ['https://rickandmortyapi.com/api/episode/25'],\n",
      "              'gender': 'Male',\n",
      "              'id': 10,\n",
      "              'image': 'https://rickandmortyapi.com/api/character/avatar/10.jpeg',\n",
      "              'location': {'name': \"Worldender's lair\",\n",
      "                           'url': 'https://rickandmortyapi.com/api/location/4'},\n",
      "              'name': 'Alan Rails',\n",
      "              'origin': {'name': 'unknown', 'url': ''},\n",
      "              'species': 'Human',\n",
      "              'status': 'Dead',\n",
      "              'type': 'Superhuman (Ghost trains summoner)',\n",
      "              'url': 'https://rickandmortyapi.com/api/character/10'},\n",
      "             {'created': '2017-11-04T20:20:20.965Z',\n",
      "              'episode': ['https://rickandmortyapi.com/api/episode/12'],\n",
      "              'gender': 'Male',\n",
      "              'id': 11,\n",
      "              'image': 'https://rickandmortyapi.com/api/character/avatar/11.jpeg',\n",
      "              'location': {'name': 'Earth (Replacement Dimension)',\n",
      "                           'url': 'https://rickandmortyapi.com/api/location/20'},\n",
      "              'name': 'Albert Einstein',\n",
      "              'origin': {'name': 'Earth (C-137)',\n",
      "                         'url': 'https://rickandmortyapi.com/api/location/1'},\n",
      "              'species': 'Human',\n",
      "              'status': 'Dead',\n",
      "              'type': '',\n",
      "              'url': 'https://rickandmortyapi.com/api/character/11'},\n",
      "             {'created': '2017-11-04T20:32:33.144Z',\n",
      "              'episode': ['https://rickandmortyapi.com/api/episode/3'],\n",
      "              'gender': 'Male',\n",
      "              'id': 12,\n",
      "              'image': 'https://rickandmortyapi.com/api/character/avatar/12.jpeg',\n",
      "              'location': {'name': 'Anatomy Park',\n",
      "                           'url': 'https://rickandmortyapi.com/api/location/5'},\n",
      "              'name': 'Alexander',\n",
      "              'origin': {'name': 'Earth (C-137)',\n",
      "                         'url': 'https://rickandmortyapi.com/api/location/1'},\n",
      "              'species': 'Human',\n",
      "              'status': 'Dead',\n",
      "              'type': '',\n",
      "              'url': 'https://rickandmortyapi.com/api/character/12'},\n",
      "             {'created': '2017-11-04T20:33:30.779Z',\n",
      "              'episode': ['https://rickandmortyapi.com/api/episode/31'],\n",
      "              'gender': 'unknown',\n",
      "              'id': 13,\n",
      "              'image': 'https://rickandmortyapi.com/api/character/avatar/13.jpeg',\n",
      "              'location': {'name': 'Earth (Replacement Dimension)',\n",
      "                           'url': 'https://rickandmortyapi.com/api/location/20'},\n",
      "              'name': 'Alien Googah',\n",
      "              'origin': {'name': 'unknown', 'url': ''},\n",
      "              'species': 'Alien',\n",
      "              'status': 'unknown',\n",
      "              'type': '',\n",
      "              'url': 'https://rickandmortyapi.com/api/character/13'},\n",
      "             {'created': '2017-11-04T20:51:31.373Z',\n",
      "              'episode': ['https://rickandmortyapi.com/api/episode/10'],\n",
      "              'gender': 'Male',\n",
      "              'id': 14,\n",
      "              'image': 'https://rickandmortyapi.com/api/character/avatar/14.jpeg',\n",
      "              'location': {'name': 'Citadel of Ricks',\n",
      "                           'url': 'https://rickandmortyapi.com/api/location/3'},\n",
      "              'name': 'Alien Morty',\n",
      "              'origin': {'name': 'unknown', 'url': ''},\n",
      "              'species': 'Alien',\n",
      "              'status': 'unknown',\n",
      "              'type': '',\n",
      "              'url': 'https://rickandmortyapi.com/api/character/14'},\n",
      "             {'created': '2017-11-04T20:56:13.215Z',\n",
      "              'episode': ['https://rickandmortyapi.com/api/episode/10'],\n",
      "              'gender': 'Male',\n",
      "              'id': 15,\n",
      "              'image': 'https://rickandmortyapi.com/api/character/avatar/15.jpeg',\n",
      "              'location': {'name': 'Citadel of Ricks',\n",
      "                           'url': 'https://rickandmortyapi.com/api/location/3'},\n",
      "              'name': 'Alien Rick',\n",
      "              'origin': {'name': 'unknown', 'url': ''},\n",
      "              'species': 'Alien',\n",
      "              'status': 'unknown',\n",
      "              'type': '',\n",
      "              'url': 'https://rickandmortyapi.com/api/character/15'},\n",
      "             {'created': '2017-11-04T21:12:45.235Z',\n",
      "              'episode': ['https://rickandmortyapi.com/api/episode/15'],\n",
      "              'gender': 'Male',\n",
      "              'id': 16,\n",
      "              'image': 'https://rickandmortyapi.com/api/character/avatar/16.jpeg',\n",
      "              'location': {'name': 'Earth (Replacement Dimension)',\n",
      "                           'url': 'https://rickandmortyapi.com/api/location/20'},\n",
      "              'name': 'Amish Cyborg',\n",
      "              'origin': {'name': 'unknown', 'url': ''},\n",
      "              'species': 'Alien',\n",
      "              'status': 'Dead',\n",
      "              'type': 'Parasite',\n",
      "              'url': 'https://rickandmortyapi.com/api/character/16'},\n",
      "             {'created': '2017-11-04T22:21:24.481Z',\n",
      "              'episode': ['https://rickandmortyapi.com/api/episode/3'],\n",
      "              'gender': 'Female',\n",
      "              'id': 17,\n",
      "              'image': 'https://rickandmortyapi.com/api/character/avatar/17.jpeg',\n",
      "              'location': {'name': 'Anatomy Park',\n",
      "                           'url': 'https://rickandmortyapi.com/api/location/5'},\n",
      "              'name': 'Annie',\n",
      "              'origin': {'name': 'Earth (C-137)',\n",
      "                         'url': 'https://rickandmortyapi.com/api/location/1'},\n",
      "              'species': 'Human',\n",
      "              'status': 'Alive',\n",
      "              'type': '',\n",
      "              'url': 'https://rickandmortyapi.com/api/character/17'},\n",
      "             {'created': '2017-11-04T22:25:29.008Z',\n",
      "              'episode': ['https://rickandmortyapi.com/api/episode/10',\n",
      "                          'https://rickandmortyapi.com/api/episode/28'],\n",
      "              'gender': 'Male',\n",
      "              'id': 18,\n",
      "              'image': 'https://rickandmortyapi.com/api/character/avatar/18.jpeg',\n",
      "              'location': {'name': 'Citadel of Ricks',\n",
      "                           'url': 'https://rickandmortyapi.com/api/location/3'},\n",
      "              'name': 'Antenna Morty',\n",
      "              'origin': {'name': 'unknown', 'url': ''},\n",
      "              'species': 'Human',\n",
      "              'status': 'Alive',\n",
      "              'type': 'Human with antennae',\n",
      "              'url': 'https://rickandmortyapi.com/api/character/18'},\n",
      "             {'created': '2017-11-04T22:28:13.756Z',\n",
      "              'episode': ['https://rickandmortyapi.com/api/episode/10'],\n",
      "              'gender': 'Male',\n",
      "              'id': 19,\n",
      "              'image': 'https://rickandmortyapi.com/api/character/avatar/19.jpeg',\n",
      "              'location': {'name': 'unknown', 'url': ''},\n",
      "              'name': 'Antenna Rick',\n",
      "              'origin': {'name': 'unknown', 'url': ''},\n",
      "              'species': 'Human',\n",
      "              'status': 'unknown',\n",
      "              'type': 'Human with antennae',\n",
      "              'url': 'https://rickandmortyapi.com/api/character/19'},\n",
      "             {'created': '2017-11-04T22:34:53.659Z',\n",
      "              'episode': ['https://rickandmortyapi.com/api/episode/8'],\n",
      "              'gender': 'Male',\n",
      "              'id': 20,\n",
      "              'image': 'https://rickandmortyapi.com/api/character/avatar/20.jpeg',\n",
      "              'location': {'name': 'Interdimensional Cable',\n",
      "                           'url': 'https://rickandmortyapi.com/api/location/6'},\n",
      "              'name': 'Ants in my Eyes Johnson',\n",
      "              'origin': {'name': 'unknown', 'url': ''},\n",
      "              'species': 'Human',\n",
      "              'status': 'unknown',\n",
      "              'type': 'Human with ants in his eyes',\n",
      "              'url': 'https://rickandmortyapi.com/api/character/20'}]}\n"
     ]
    }
   ],
   "source": [
    "# Obtenemos los datos y los convertimos a JSON.\n",
    "datos = respuesta.json()  \n",
    "\n",
    "#Comprobamos que tenemos los datos. La librería pprint los imprime de manera ordenada\n",
    "import pprint\n",
    "pp = pprint.PrettyPrinter(indent=1)\n",
    "pp.pprint(datos)\n",
    "#Me sirve para ver como están distribuidos los datos en el json y hacer el siguiente código. "
   ]
  },
  {
   "cell_type": "code",
   "execution_count": 6,
   "metadata": {},
   "outputs": [],
   "source": [
    "#base_url = 'https://rickandmortyapi.com/api/characterdef'\n",
    "#def obtener_datos_personajes():\n",
    "#   personajes = []\n",
    "  #  contador = 0\n",
    " #    while True:\n",
    "  #       respuesta = requests.get(f'{base_url}?page={contador+1}')\n",
    "  #       data = respuesta.json()\n",
    "    #     resultado =  data.get('results')\n",
    "     #   if  type(resultado) == type(None):\n",
    "       #      break\n",
    "         #else:\n",
    "           #  personajes.extend(resultado)\n",
    "             #contador+=1\n",
    "     #return personajes\n",
    " #obtener_datos_personajes()"
   ]
  },
  {
   "cell_type": "code",
   "execution_count": 7,
   "metadata": {},
   "outputs": [],
   "source": [
    "#Loop para conseguir un listado con todos los enlaces\n",
    "URL2 = \"https://rickandmortyapi.com/api/character/?page=\"\n",
    "count=1\n",
    "Nombres=[]\n",
    "Status=[]\n",
    "Species = []\n",
    "Type=[]\n",
    "Gender = []\n",
    "Origin = []\n",
    "Location= []\n",
    "Image = []\n",
    "Episode = []\n",
    "while True:\n",
    "    respuesta = requests.get(URL2 + str(count))\n",
    "    if respuesta.status_code!= 200:\n",
    "        break\n",
    "    datos = respuesta.json() \n",
    "    for i in range (len(datos['results'])):\n",
    "        name = datos['results'][i]['name']\n",
    "        status= datos['results'][i]['status']\n",
    "        species= datos['results'][i]['species']\n",
    "        type = datos['results'][i]['type']\n",
    "        gender = datos['results'][i]['gender']\n",
    "        origin = datos['results'][i]['origin']['name']\n",
    "        location = datos['results'][i]['location']['name']\n",
    "        image = datos['results'][i]['image']\n",
    "        episode = datos['results'][i]['episode'][::]\n",
    "        Nombres.append(name)\n",
    "        Status.append(status)\n",
    "        Species.append(species)\n",
    "        Type.append(type)\n",
    "        Gender.append(gender)\n",
    "        Origin.append(origin)\n",
    "        Location.append(location)\n",
    "        Image.append(image)\n",
    "        Episode.append(episode)\n",
    "    count +=1\n",
    "\n",
    "#Buscar forma más elegante de poner esto\n"
   ]
  },
  {
   "cell_type": "code",
   "execution_count": 8,
   "metadata": {},
   "outputs": [],
   "source": [
    "#lista zip que empareja cada dato de cada lista con el que le corresponde de las otras\n",
    "\n",
    "lista_zip = zip(Nombres, Status, Species, Type, Gender, Origin, Location, Image, Episode)\n",
    "\n",
    "#Creación del dataframe con los datos de la lista zip y los nombres de las columnas\n",
    "\n",
    "df = pd.DataFrame(data = lista_zip, columns=['Nombres','Status', 'Species', 'Type', 'Gender', 'Origin', 'Location', 'Image', 'Episode'] )\n"
   ]
  },
  {
   "cell_type": "code",
   "execution_count": 9,
   "metadata": {},
   "outputs": [],
   "source": [
    "df['Episode'] = df['Episode'].astype(str) #pasamos la columna episode a str para poder eliminar las partes que no nos interesan"
   ]
  },
  {
   "cell_type": "code",
   "execution_count": 10,
   "metadata": {},
   "outputs": [
    {
     "data": {
      "text/html": [
       "<div>\n",
       "<style scoped>\n",
       "    .dataframe tbody tr th:only-of-type {\n",
       "        vertical-align: middle;\n",
       "    }\n",
       "\n",
       "    .dataframe tbody tr th {\n",
       "        vertical-align: top;\n",
       "    }\n",
       "\n",
       "    .dataframe thead th {\n",
       "        text-align: right;\n",
       "    }\n",
       "</style>\n",
       "<table border=\"1\" class=\"dataframe\">\n",
       "  <thead>\n",
       "    <tr style=\"text-align: right;\">\n",
       "      <th></th>\n",
       "      <th>Nombres</th>\n",
       "      <th>Status</th>\n",
       "      <th>Species</th>\n",
       "      <th>Type</th>\n",
       "      <th>Gender</th>\n",
       "      <th>Origin</th>\n",
       "      <th>Location</th>\n",
       "      <th>Image</th>\n",
       "      <th>Episode</th>\n",
       "    </tr>\n",
       "  </thead>\n",
       "  <tbody>\n",
       "    <tr>\n",
       "      <th>0</th>\n",
       "      <td>Rick Sanchez</td>\n",
       "      <td>Alive</td>\n",
       "      <td>Human</td>\n",
       "      <td></td>\n",
       "      <td>Male</td>\n",
       "      <td>Earth (C-137)</td>\n",
       "      <td>Citadel of Ricks</td>\n",
       "      <td>https://rickandmortyapi.com/api/character/avat...</td>\n",
       "      <td>['1', '2', '3', '4', '5', '6', '7', '8', '9', ...</td>\n",
       "    </tr>\n",
       "    <tr>\n",
       "      <th>1</th>\n",
       "      <td>Morty Smith</td>\n",
       "      <td>Alive</td>\n",
       "      <td>Human</td>\n",
       "      <td></td>\n",
       "      <td>Male</td>\n",
       "      <td>unknown</td>\n",
       "      <td>Citadel of Ricks</td>\n",
       "      <td>https://rickandmortyapi.com/api/character/avat...</td>\n",
       "      <td>['1', '2', '3', '4', '5', '6', '7', '8', '9', ...</td>\n",
       "    </tr>\n",
       "    <tr>\n",
       "      <th>2</th>\n",
       "      <td>Summer Smith</td>\n",
       "      <td>Alive</td>\n",
       "      <td>Human</td>\n",
       "      <td></td>\n",
       "      <td>Female</td>\n",
       "      <td>Earth (Replacement Dimension)</td>\n",
       "      <td>Earth (Replacement Dimension)</td>\n",
       "      <td>https://rickandmortyapi.com/api/character/avat...</td>\n",
       "      <td>['6', '7', '8', '9', '10', '11', '12', '14', '...</td>\n",
       "    </tr>\n",
       "    <tr>\n",
       "      <th>3</th>\n",
       "      <td>Beth Smith</td>\n",
       "      <td>Alive</td>\n",
       "      <td>Human</td>\n",
       "      <td></td>\n",
       "      <td>Female</td>\n",
       "      <td>Earth (Replacement Dimension)</td>\n",
       "      <td>Earth (Replacement Dimension)</td>\n",
       "      <td>https://rickandmortyapi.com/api/character/avat...</td>\n",
       "      <td>['6', '7', '8', '9', '10', '11', '12', '14', '...</td>\n",
       "    </tr>\n",
       "    <tr>\n",
       "      <th>4</th>\n",
       "      <td>Jerry Smith</td>\n",
       "      <td>Alive</td>\n",
       "      <td>Human</td>\n",
       "      <td></td>\n",
       "      <td>Male</td>\n",
       "      <td>Earth (Replacement Dimension)</td>\n",
       "      <td>Earth (Replacement Dimension)</td>\n",
       "      <td>https://rickandmortyapi.com/api/character/avat...</td>\n",
       "      <td>['6', '7', '8', '9', '10', '11', '12', '13', '...</td>\n",
       "    </tr>\n",
       "    <tr>\n",
       "      <th>...</th>\n",
       "      <td>...</td>\n",
       "      <td>...</td>\n",
       "      <td>...</td>\n",
       "      <td>...</td>\n",
       "      <td>...</td>\n",
       "      <td>...</td>\n",
       "      <td>...</td>\n",
       "      <td>...</td>\n",
       "      <td>...</td>\n",
       "    </tr>\n",
       "    <tr>\n",
       "      <th>821</th>\n",
       "      <td>Young Jerry</td>\n",
       "      <td>unknown</td>\n",
       "      <td>Human</td>\n",
       "      <td></td>\n",
       "      <td>Male</td>\n",
       "      <td>Earth (Unknown dimension)</td>\n",
       "      <td>Earth (Unknown dimension)</td>\n",
       "      <td>https://rickandmortyapi.com/api/character/avat...</td>\n",
       "      <td>['51']</td>\n",
       "    </tr>\n",
       "    <tr>\n",
       "      <th>822</th>\n",
       "      <td>Young Beth</td>\n",
       "      <td>unknown</td>\n",
       "      <td>Human</td>\n",
       "      <td></td>\n",
       "      <td>Female</td>\n",
       "      <td>Earth (Unknown dimension)</td>\n",
       "      <td>Earth (Unknown dimension)</td>\n",
       "      <td>https://rickandmortyapi.com/api/character/avat...</td>\n",
       "      <td>['51']</td>\n",
       "    </tr>\n",
       "    <tr>\n",
       "      <th>823</th>\n",
       "      <td>Young Beth</td>\n",
       "      <td>unknown</td>\n",
       "      <td>Human</td>\n",
       "      <td></td>\n",
       "      <td>Female</td>\n",
       "      <td>Earth (Unknown dimension)</td>\n",
       "      <td>Earth (Unknown dimension)</td>\n",
       "      <td>https://rickandmortyapi.com/api/character/avat...</td>\n",
       "      <td>['51']</td>\n",
       "    </tr>\n",
       "    <tr>\n",
       "      <th>824</th>\n",
       "      <td>Young Jerry</td>\n",
       "      <td>unknown</td>\n",
       "      <td>Human</td>\n",
       "      <td></td>\n",
       "      <td>Male</td>\n",
       "      <td>Earth (Unknown dimension)</td>\n",
       "      <td>Earth (Unknown dimension)</td>\n",
       "      <td>https://rickandmortyapi.com/api/character/avat...</td>\n",
       "      <td>['51']</td>\n",
       "    </tr>\n",
       "    <tr>\n",
       "      <th>825</th>\n",
       "      <td>Butter Robot</td>\n",
       "      <td>Alive</td>\n",
       "      <td>Robot</td>\n",
       "      <td>Passing Butter Robot</td>\n",
       "      <td>Genderless</td>\n",
       "      <td>Earth (Replacement Dimension)</td>\n",
       "      <td>Earth (Replacement Dimension)</td>\n",
       "      <td>https://rickandmortyapi.com/api/character/avat...</td>\n",
       "      <td>['9']</td>\n",
       "    </tr>\n",
       "  </tbody>\n",
       "</table>\n",
       "<p>826 rows × 9 columns</p>\n",
       "</div>"
      ],
      "text/plain": [
       "          Nombres   Status Species                  Type      Gender  \\\n",
       "0    Rick Sanchez    Alive   Human                              Male   \n",
       "1     Morty Smith    Alive   Human                              Male   \n",
       "2    Summer Smith    Alive   Human                            Female   \n",
       "3      Beth Smith    Alive   Human                            Female   \n",
       "4     Jerry Smith    Alive   Human                              Male   \n",
       "..            ...      ...     ...                   ...         ...   \n",
       "821   Young Jerry  unknown   Human                              Male   \n",
       "822    Young Beth  unknown   Human                            Female   \n",
       "823    Young Beth  unknown   Human                            Female   \n",
       "824   Young Jerry  unknown   Human                              Male   \n",
       "825  Butter Robot    Alive   Robot  Passing Butter Robot  Genderless   \n",
       "\n",
       "                            Origin                       Location  \\\n",
       "0                    Earth (C-137)               Citadel of Ricks   \n",
       "1                          unknown               Citadel of Ricks   \n",
       "2    Earth (Replacement Dimension)  Earth (Replacement Dimension)   \n",
       "3    Earth (Replacement Dimension)  Earth (Replacement Dimension)   \n",
       "4    Earth (Replacement Dimension)  Earth (Replacement Dimension)   \n",
       "..                             ...                            ...   \n",
       "821      Earth (Unknown dimension)      Earth (Unknown dimension)   \n",
       "822      Earth (Unknown dimension)      Earth (Unknown dimension)   \n",
       "823      Earth (Unknown dimension)      Earth (Unknown dimension)   \n",
       "824      Earth (Unknown dimension)      Earth (Unknown dimension)   \n",
       "825  Earth (Replacement Dimension)  Earth (Replacement Dimension)   \n",
       "\n",
       "                                                 Image  \\\n",
       "0    https://rickandmortyapi.com/api/character/avat...   \n",
       "1    https://rickandmortyapi.com/api/character/avat...   \n",
       "2    https://rickandmortyapi.com/api/character/avat...   \n",
       "3    https://rickandmortyapi.com/api/character/avat...   \n",
       "4    https://rickandmortyapi.com/api/character/avat...   \n",
       "..                                                 ...   \n",
       "821  https://rickandmortyapi.com/api/character/avat...   \n",
       "822  https://rickandmortyapi.com/api/character/avat...   \n",
       "823  https://rickandmortyapi.com/api/character/avat...   \n",
       "824  https://rickandmortyapi.com/api/character/avat...   \n",
       "825  https://rickandmortyapi.com/api/character/avat...   \n",
       "\n",
       "                                               Episode  \n",
       "0    ['1', '2', '3', '4', '5', '6', '7', '8', '9', ...  \n",
       "1    ['1', '2', '3', '4', '5', '6', '7', '8', '9', ...  \n",
       "2    ['6', '7', '8', '9', '10', '11', '12', '14', '...  \n",
       "3    ['6', '7', '8', '9', '10', '11', '12', '14', '...  \n",
       "4    ['6', '7', '8', '9', '10', '11', '12', '13', '...  \n",
       "..                                                 ...  \n",
       "821                                             ['51']  \n",
       "822                                             ['51']  \n",
       "823                                             ['51']  \n",
       "824                                             ['51']  \n",
       "825                                              ['9']  \n",
       "\n",
       "[826 rows x 9 columns]"
      ]
     },
     "execution_count": 10,
     "metadata": {},
     "output_type": "execute_result"
    }
   ],
   "source": [
    "df['Episode'] = df['Episode'].str.replace('https://rickandmortyapi.com/api/episode/','') #eliminamos los enlaces para quedarnos solo con los números(los episodios. Me da error al pasarlo a int)\n",
    "df['Episode'] = df['Episode'].str.replace(' /','')\n",
    "df"
   ]
  },
  {
   "cell_type": "code",
   "execution_count": 11,
   "metadata": {},
   "outputs": [],
   "source": [
    "#from IPython.core.display import HTML\n",
    "#def display_image(url):\n",
    "    #return f'<img src= \"{url}\"+ width= \"60\" >'\n",
    "\n",
    "# informacion_actores: Dataframe con la información\n",
    "# Imagen: Columna con la URL de las imánes de los actores y actrices\n",
    "\n",
    "#df['Image'] = df['Image'].apply(display_image)\n",
    "#display(HTML(df.to_html(escape=False ,render_links = True)))"
   ]
  },
  {
   "cell_type": "markdown",
   "metadata": {},
   "source": [
    "#### Gráficas"
   ]
  },
  {
   "cell_type": "code",
   "execution_count": 12,
   "metadata": {},
   "outputs": [
    {
     "data": {
      "text/plain": [
       "Nombres     object\n",
       "Status      object\n",
       "Species     object\n",
       "Type        object\n",
       "Gender      object\n",
       "Origin      object\n",
       "Location    object\n",
       "Image       object\n",
       "Episode     object\n",
       "dtype: object"
      ]
     },
     "execution_count": 12,
     "metadata": {},
     "output_type": "execute_result"
    }
   ],
   "source": [
    "df.dtypes"
   ]
  },
  {
   "cell_type": "code",
   "execution_count": 13,
   "metadata": {},
   "outputs": [
    {
     "data": {
      "image/png": "[encoded data removed]",
      "text/plain": [
       "<Figure size 640x480 with 1 Axes>"
      ]
     },
     "metadata": {},
     "output_type": "display_data"
    }
   ],
   "source": [
    "#Pie chart Gender\n",
    "series = pd.Series(df['Gender'])\n",
    "word_counts = series.value_counts()\n",
    "plt.pie(word_counts, labels=word_counts.index, autopct='%1.1f%%')\n",
    "plt.axis('equal') \n",
    "plt.show()"
   ]
  },
  {
   "cell_type": "code",
   "execution_count": 14,
   "metadata": {},
   "outputs": [
    {
     "data": {
      "image/png": "[encoded data removed]",
      "text/plain": [
       "<Figure size 640x480 with 1 Axes>"
      ]
     },
     "metadata": {},
     "output_type": "display_data"
    }
   ],
   "source": [
    "#Pie chart Status\n",
    "series = pd.Series(df['Status'])\n",
    "word_counts = series.value_counts()\n",
    "plt.pie(word_counts, labels=word_counts.index, autopct='%1.1f%%')\n",
    "plt.axis('equal') \n",
    "plt.show()"
   ]
  },
  {
   "cell_type": "code",
   "execution_count": 23,
   "metadata": {},
   "outputs": [
    {
     "data": {
      "application/vnd.plotly.v1+json": {
       "config": {
        "plotlyServerURL": "https://plot.ly"
       },
       "data": [
        {
         "branchvalues": "total",
         "domain": {
          "x": [
           0,
           1
          ],
          "y": [
           0,
           1
          ]
         },
         "hovertemplate": "labels=%{label}<br>count=%{value}<br>parent=%{parent}<br>id=%{id}<extra></extra>",
         "ids": [
          "Alien",
          "Animal",
          "Cronenberg",
          "Disease",
          "Human",
          "Humanoid",
          "Mythological Creature",
          "Poopybutthole",
          "Robot",
          "unknown"
         ],
         "labels": [
          "Alien",
          "Animal",
          "Cronenberg",
          "Disease",
          "Human",
          "Humanoid",
          "Mythological Creature",
          "Poopybutthole",
          "Robot",
          "unknown"
         ],
         "name": "",
         "parents": [
          "",
          "",
          "",
          "",
          "",
          "",
          "",
          "",
          "",
          ""
         ],
         "root": {
          "color": "lightgrey"
         },
         "type": "treemap",
         "values": [
          205,
          55,
          8,
          6,
          366,
          68,
          46,
          8,
          51,
          13
         ]
        }
       ],
       "layout": {
        "height": 700,
        "legend": {
         "tracegroupgap": 0
        },
        "margin": {
         "b": 25,
         "l": 25,
         "r": 25,
         "t": 50
        },
        "template": {
         "data": {
          "bar": [
           {
            "error_x": {
             "color": "#f2f5fa"
            },
            "error_y": {
             "color": "#f2f5fa"
            },
            "marker": {
             "line": {
              "color": "rgb(17,17,17)",
              "width": 0.5
             },
             "pattern": {
              "fillmode": "overlay",
              "size": 10,
              "solidity": 0.2
             }
            },
            "type": "bar"
           }
          ],
          "barpolar": [
           {
            "marker": {
             "line": {
              "color": "rgb(17,17,17)",
              "width": 0.5
             },
             "pattern": {
              "fillmode": "overlay",
              "size": 10,
              "solidity": 0.2
             }
            },
            "type": "barpolar"
           }
          ],
          "carpet": [
           {
            "aaxis": {
             "endlinecolor": "#A2B1C6",
             "gridcolor": "#506784",
             "linecolor": "#506784",
             "minorgridcolor": "#506784",
             "startlinecolor": "#A2B1C6"
            },
            "baxis": {
             "endlinecolor": "#A2B1C6",
             "gridcolor": "#506784",
             "linecolor": "#506784",
             "minorgridcolor": "#506784",
             "startlinecolor": "#A2B1C6"
            },
            "type": "carpet"
           }
          ],
          "choropleth": [
           {
            "colorbar": {
             "outlinewidth": 0,
             "ticks": ""
            },
            "type": "choropleth"
           }
          ],
          "contour": [
           {
            "colorbar": {
             "outlinewidth": 0,
             "ticks": ""
            },
            "colorscale": [
             [
              0,
              "#0d0887"
             ],
             [
              0.1111111111111111,
              "#46039f"
             ],
             [
              0.2222222222222222,
              "#7201a8"
             ],
             [
              0.3333333333333333,
              "#9c179e"
             ],
             [
              0.4444444444444444,
              "#bd3786"
             ],
             [
              0.5555555555555556,
              "#d8576b"
             ],
             [
              0.6666666666666666,
              "#ed7953"
             ],
             [
              0.7777777777777778,
              "#fb9f3a"
             ],
             [
              0.8888888888888888,
              "#fdca26"
             ],
             [
              1,
              "#f0f921"
             ]
            ],
            "type": "contour"
           }
          ],
          "contourcarpet": [
           {
            "colorbar": {
             "outlinewidth": 0,
             "ticks": ""
            },
            "type": "contourcarpet"
           }
          ],
          "heatmap": [
           {
            "colorbar": {
             "outlinewidth": 0,
             "ticks": ""
            },
            "colorscale": [
             [
              0,
              "#0d0887"
             ],
             [
              0.1111111111111111,
              "#46039f"
             ],
             [
              0.2222222222222222,
              "#7201a8"
             ],
             [
              0.3333333333333333,
              "#9c179e"
             ],
             [
              0.4444444444444444,
              "#bd3786"
             ],
             [
              0.5555555555555556,
              "#d8576b"
             ],
             [
              0.6666666666666666,
              "#ed7953"
             ],
             [
              0.7777777777777778,
              "#fb9f3a"
             ],
             [
              0.8888888888888888,
              "#fdca26"
             ],
             [
              1,
              "#f0f921"
             ]
            ],
            "type": "heatmap"
           }
          ],
          "heatmapgl": [
           {
            "colorbar": {
             "outlinewidth": 0,
             "ticks": ""
            },
            "colorscale": [
             [
              0,
              "#0d0887"
             ],
             [
              0.1111111111111111,
              "#46039f"
             ],
             [
              0.2222222222222222,
              "#7201a8"
             ],
             [
              0.3333333333333333,
              "#9c179e"
             ],
             [
              0.4444444444444444,
              "#bd3786"
             ],
             [
              0.5555555555555556,
              "#d8576b"
             ],
             [
              0.6666666666666666,
              "#ed7953"
             ],
             [
              0.7777777777777778,
              "#fb9f3a"
             ],
             [
              0.8888888888888888,
              "#fdca26"
             ],
             [
              1,
              "#f0f921"
             ]
            ],
            "type": "heatmapgl"
           }
          ],
          "histogram": [
           {
            "marker": {
             "pattern": {
              "fillmode": "overlay",
              "size": 10,
              "solidity": 0.2
             }
            },
            "type": "histogram"
           }
          ],
          "histogram2d": [
           {
            "colorbar": {
             "outlinewidth": 0,
             "ticks": ""
            },
            "colorscale": [
             [
              0,
              "#0d0887"
             ],
             [
              0.1111111111111111,
              "#46039f"
             ],
             [
              0.2222222222222222,
              "#7201a8"
             ],
             [
              0.3333333333333333,
              "#9c179e"
             ],
             [
              0.4444444444444444,
              "#bd3786"
             ],
             [
              0.5555555555555556,
              "#d8576b"
             ],
             [
              0.6666666666666666,
              "#ed7953"
             ],
             [
              0.7777777777777778,
              "#fb9f3a"
             ],
             [
              0.8888888888888888,
              "#fdca26"
             ],
             [
              1,
              "#f0f921"
             ]
            ],
            "type": "histogram2d"
           }
          ],
          "histogram2dcontour": [
           {
            "colorbar": {
             "outlinewidth": 0,
             "ticks": ""
            },
            "colorscale": [
             [
              0,
              "#0d0887"
             ],
             [
              0.1111111111111111,
              "#46039f"
             ],
             [
              0.2222222222222222,
              "#7201a8"
             ],
             [
              0.3333333333333333,
              "#9c179e"
             ],
             [
              0.4444444444444444,
              "#bd3786"
             ],
             [
              0.5555555555555556,
              "#d8576b"
             ],
             [
              0.6666666666666666,
              "#ed7953"
             ],
             [
              0.7777777777777778,
              "#fb9f3a"
             ],
             [
              0.8888888888888888,
              "#fdca26"
             ],
             [
              1,
              "#f0f921"
             ]
            ],
            "type": "histogram2dcontour"
           }
          ],
          "mesh3d": [
           {
            "colorbar": {
             "outlinewidth": 0,
             "ticks": ""
            },
            "type": "mesh3d"
           }
          ],
          "parcoords": [
           {
            "line": {
             "colorbar": {
              "outlinewidth": 0,
              "ticks": ""
             }
            },
            "type": "parcoords"
           }
          ],
          "pie": [
           {
            "automargin": true,
            "type": "pie"
           }
          ],
          "scatter": [
           {
            "marker": {
             "line": {
              "color": "#283442"
             }
            },
            "type": "scatter"
           }
          ],
          "scatter3d": [
           {
            "line": {
             "colorbar": {
              "outlinewidth": 0,
              "ticks": ""
             }
            },
            "marker": {
             "colorbar": {
              "outlinewidth": 0,
              "ticks": ""
             }
            },
            "type": "scatter3d"
           }
          ],
          "scattercarpet": [
           {
            "marker": {
             "colorbar": {
              "outlinewidth": 0,
              "ticks": ""
             }
            },
            "type": "scattercarpet"
           }
          ],
          "scattergeo": [
           {
            "marker": {
             "colorbar": {
              "outlinewidth": 0,
              "ticks": ""
             }
            },
            "type": "scattergeo"
           }
          ],
          "scattergl": [
           {
            "marker": {
             "line": {
              "color": "#283442"
             }
            },
            "type": "scattergl"
           }
          ],
          "scattermapbox": [
           {
            "marker": {
             "colorbar": {
              "outlinewidth": 0,
              "ticks": ""
             }
            },
            "type": "scattermapbox"
           }
          ],
          "scatterpolar": [
           {
            "marker": {
             "colorbar": {
              "outlinewidth": 0,
              "ticks": ""
             }
            },
            "type": "scatterpolar"
           }
          ],
          "scatterpolargl": [
           {
            "marker": {
             "colorbar": {
              "outlinewidth": 0,
              "ticks": ""
             }
            },
            "type": "scatterpolargl"
           }
          ],
          "scatterternary": [
           {
            "marker": {
             "colorbar": {
              "outlinewidth": 0,
              "ticks": ""
             }
            },
            "type": "scatterternary"
           }
          ],
          "surface": [
           {
            "colorbar": {
             "outlinewidth": 0,
             "ticks": ""
            },
            "colorscale": [
             [
              0,
              "#0d0887"
             ],
             [
              0.1111111111111111,
              "#46039f"
             ],
             [
              0.2222222222222222,
              "#7201a8"
             ],
             [
              0.3333333333333333,
              "#9c179e"
             ],
             [
              0.4444444444444444,
              "#bd3786"
             ],
             [
              0.5555555555555556,
              "#d8576b"
             ],
             [
              0.6666666666666666,
              "#ed7953"
             ],
             [
              0.7777777777777778,
              "#fb9f3a"
             ],
             [
              0.8888888888888888,
              "#fdca26"
             ],
             [
              1,
              "#f0f921"
             ]
            ],
            "type": "surface"
           }
          ],
          "table": [
           {
            "cells": {
             "fill": {
              "color": "#506784"
             },
             "line": {
              "color": "rgb(17,17,17)"
             }
            },
            "header": {
             "fill": {
              "color": "#2a3f5f"
             },
             "line": {
              "color": "rgb(17,17,17)"
             }
            },
            "type": "table"
           }
          ]
         },
         "layout": {
          "annotationdefaults": {
           "arrowcolor": "#f2f5fa",
           "arrowhead": 0,
           "arrowwidth": 1
          },
          "autotypenumbers": "strict",
          "coloraxis": {
           "colorbar": {
            "outlinewidth": 0,
            "ticks": ""
           }
          },
          "colorscale": {
           "diverging": [
            [
             0,
             "#8e0152"
            ],
            [
             0.1,
             "#c51b7d"
            ],
            [
             0.2,
             "#de77ae"
            ],
            [
             0.3,
             "#f1b6da"
            ],
            [
             0.4,
             "#fde0ef"
            ],
            [
             0.5,
             "#f7f7f7"
            ],
            [
             0.6,
             "#e6f5d0"
            ],
            [
             0.7,
             "#b8e186"
            ],
            [
             0.8,
             "#7fbc41"
            ],
            [
             0.9,
             "#4d9221"
            ],
            [
             1,
             "#276419"
            ]
           ],
           "sequential": [
            [
             0,
             "#0d0887"
            ],
            [
             0.1111111111111111,
             "#46039f"
            ],
            [
             0.2222222222222222,
             "#7201a8"
            ],
            [
             0.3333333333333333,
             "#9c179e"
            ],
            [
             0.4444444444444444,
             "#bd3786"
            ],
            [
             0.5555555555555556,
             "#d8576b"
            ],
            [
             0.6666666666666666,
             "#ed7953"
            ],
            [
             0.7777777777777778,
             "#fb9f3a"
            ],
            [
             0.8888888888888888,
             "#fdca26"
            ],
            [
             1,
             "#f0f921"
            ]
           ],
           "sequentialminus": [
            [
             0,
             "#0d0887"
            ],
            [
             0.1111111111111111,
             "#46039f"
            ],
            [
             0.2222222222222222,
             "#7201a8"
            ],
            [
             0.3333333333333333,
             "#9c179e"
            ],
            [
             0.4444444444444444,
             "#bd3786"
            ],
            [
             0.5555555555555556,
             "#d8576b"
            ],
            [
             0.6666666666666666,
             "#ed7953"
            ],
            [
             0.7777777777777778,
             "#fb9f3a"
            ],
            [
             0.8888888888888888,
             "#fdca26"
            ],
            [
             1,
             "#f0f921"
            ]
           ]
          },
          "colorway": [
           "#636efa",
           "#EF553B",
           "#00cc96",
           "#ab63fa",
           "#FFA15A",
           "#19d3f3",
           "#FF6692",
           "#B6E880",
           "#FF97FF",
           "#FECB52"
          ],
          "font": {
           "color": "#f2f5fa"
          },
          "geo": {
           "bgcolor": "rgb(17,17,17)",
           "lakecolor": "rgb(17,17,17)",
           "landcolor": "rgb(17,17,17)",
           "showlakes": true,
           "showland": true,
           "subunitcolor": "#506784"
          },
          "hoverlabel": {
           "align": "left"
          },
          "hovermode": "closest",
          "mapbox": {
           "style": "dark"
          },
          "paper_bgcolor": "rgb(17,17,17)",
          "plot_bgcolor": "rgb(17,17,17)",
          "polar": {
           "angularaxis": {
            "gridcolor": "#506784",
            "linecolor": "#506784",
            "ticks": ""
           },
           "bgcolor": "rgb(17,17,17)",
           "radialaxis": {
            "gridcolor": "#506784",
            "linecolor": "#506784",
            "ticks": ""
           }
          },
          "scene": {
           "xaxis": {
            "backgroundcolor": "rgb(17,17,17)",
            "gridcolor": "#506784",
            "gridwidth": 2,
            "linecolor": "#506784",
            "showbackground": true,
            "ticks": "",
            "zerolinecolor": "#C8D4E3"
           },
           "yaxis": {
            "backgroundcolor": "rgb(17,17,17)",
            "gridcolor": "#506784",
            "gridwidth": 2,
            "linecolor": "#506784",
            "showbackground": true,
            "ticks": "",
            "zerolinecolor": "#C8D4E3"
           },
           "zaxis": {
            "backgroundcolor": "rgb(17,17,17)",
            "gridcolor": "#506784",
            "gridwidth": 2,
            "linecolor": "#506784",
            "showbackground": true,
            "ticks": "",
            "zerolinecolor": "#C8D4E3"
           }
          },
          "shapedefaults": {
           "line": {
            "color": "#f2f5fa"
           }
          },
          "sliderdefaults": {
           "bgcolor": "#C8D4E3",
           "bordercolor": "rgb(17,17,17)",
           "borderwidth": 1,
           "tickwidth": 0
          },
          "ternary": {
           "aaxis": {
            "gridcolor": "#506784",
            "linecolor": "#506784",
            "ticks": ""
           },
           "baxis": {
            "gridcolor": "#506784",
            "linecolor": "#506784",
            "ticks": ""
           },
           "bgcolor": "rgb(17,17,17)",
           "caxis": {
            "gridcolor": "#506784",
            "linecolor": "#506784",
            "ticks": ""
           }
          },
          "title": {
           "x": 0.05
          },
          "updatemenudefaults": {
           "bgcolor": "#506784",
           "borderwidth": 0
          },
          "xaxis": {
           "automargin": true,
           "gridcolor": "#283442",
           "linecolor": "#506784",
           "ticks": "",
           "title": {
            "standoff": 15
           },
           "zerolinecolor": "#283442",
           "zerolinewidth": 2
          },
          "yaxis": {
           "automargin": true,
           "gridcolor": "#283442",
           "linecolor": "#506784",
           "ticks": "",
           "title": {
            "standoff": 15
           },
           "zerolinecolor": "#283442",
           "zerolinewidth": 2
          }
         }
        },
        "title": {
         "text": "Proporción de las especies"
        }
       }
      }
     },
     "metadata": {},
     "output_type": "display_data"
    }
   ],
   "source": [
    "\n",
    "fig = px.treemap(df, path=['Species'],height=700, title='Proporción de las especies',template= 'plotly_dark')\n",
    "fig.update_traces(root_color=\"lightgrey\")\n",
    "fig.update_layout(margin = dict(t=50, l=25, r=25, b=25))\n",
    "fig.show()\n"
   ]
  }
 ],
 "metadata": {
  "kernelspec": {
   "display_name": "Python 3",
   "language": "python",
   "name": "python3"
  },
  "language_info": {
   "codemirror_mode": {
    "name": "ipython",
    "version": 3
   },
   "file_extension": ".py",
   "mimetype": "text/x-python",
   "name": "python",
   "nbconvert_exporter": "python",
   "pygments_lexer": "ipython3",
   "version": "3.11.5"
  }
 },
 "nbformat": 4,
 "nbformat_minor": 2
}
